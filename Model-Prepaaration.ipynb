{
 "cells": [
  {
   "cell_type": "markdown",
   "id": "a72adf9a",
   "metadata": {},
   "source": [
    "#### Making the ultralytics as parent directory"
   ]
  },
  {
   "cell_type": "code",
   "execution_count": 3,
   "id": "bbca8bf7",
   "metadata": {},
   "outputs": [],
   "source": [
    "import sys\n",
    "sys.path.append('ultralytics/')"
   ]
  },
  {
   "cell_type": "markdown",
   "id": "b3b9985a",
   "metadata": {},
   "source": [
    "##### Continuation with ultralytics"
   ]
  },
  {
   "cell_type": "code",
   "execution_count": 4,
   "id": "30c6aac2",
   "metadata": {},
   "outputs": [],
   "source": [
    "from ultralytics import YOLO"
   ]
  },
  {
   "cell_type": "markdown",
   "id": "2d0305c5",
   "metadata": {},
   "source": [
    "1. Preparation for training\n",
    "2. Checking testing result\n",
    "3. Check XAI\n",
    "4. Update the training samples"
   ]
  },
  {
   "cell_type": "code",
   "execution_count": null,
   "id": "febb6dd1",
   "metadata": {},
   "outputs": [],
   "source": []
  }
 ],
 "metadata": {
  "kernelspec": {
   "display_name": "yolo",
   "language": "python",
   "name": "yolo"
  },
  "language_info": {
   "codemirror_mode": {
    "name": "ipython",
    "version": 3
   },
   "file_extension": ".py",
   "mimetype": "text/x-python",
   "name": "python",
   "nbconvert_exporter": "python",
   "pygments_lexer": "ipython3",
   "version": "3.8.9"
  }
 },
 "nbformat": 4,
 "nbformat_minor": 5
}
