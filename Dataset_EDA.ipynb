{
 "cells": [
  {
   "cell_type": "code",
   "execution_count": 12,
   "id": "99fe955d",
   "metadata": {},
   "outputs": [],
   "source": [
    "import os\n",
    "import sys\n",
    "import cv2\n",
    "import random\n",
    "import numpy as np\n",
    "import pandas as pd\n",
    "import shutil\n",
    "from tqdm import tqdm\n",
    "import matplotlib.pyplot as plt"
   ]
  },
  {
   "cell_type": "code",
   "execution_count": 46,
   "id": "f6ed96cf",
   "metadata": {},
   "outputs": [],
   "source": [
    "def get_bbox(path,IMG_SIZE=416): ### Default is set to SSDD image dimension\n",
    "    temp=[]\n",
    "    _,file= os.path.split(path)\n",
    "    with open(path) as f:\n",
    "        for i in f:\n",
    "            box=i.split(' ')\n",
    "            x = float(box[1]) *IMG_SIZE\n",
    "            y = float(box[2]) *IMG_SIZE\n",
    "            w = float(box[3]) *IMG_SIZE\n",
    "            h = float(box[4]) *IMG_SIZE\n",
    "            temp.append([file,x,y,w,h])\n",
    "    return temp\n",
    "\n",
    "def distribution_of_aspect_ratio(PATH,IMG_SIZE,plot_name):\n",
    "    cols=['ID','X','Y','W','H']\n",
    "    df=pd.DataFrame(columns=cols)\n",
    "    for file in os.listdir(PATH):\n",
    "        file_path= os.path.join(PATH, file)\n",
    "        boxes= get_bbox(file_path, IMG_SIZE)\n",
    "        temp_df=pd.DataFrame(boxes,columns= cols )\n",
    "        df = pd.concat([df, temp_df], ignore_index=True)\n",
    "    df['aspect_ratio']= (df['W']/df['H']).round(4)\n",
    "    plt.figure(figsize=(6, 6))\n",
    "    plt.hist(df['aspect_ratio'], bins=20, edgecolor='black', alpha=0.7)\n",
    "    plt.title('Distribution of vessel size of '+plot_name)\n",
    "    plt.xlabel('Aspect Ratio')\n",
    "    plt.ylabel('Frequency of ships')\n",
    "    plt.grid(False)\n",
    "    #plt.savefig(plot_name+'.png')\n",
    "    plt.show()\n",
    "    return df"
   ]
  },
  {
   "cell_type": "code",
   "execution_count": 5,
   "id": "919d8829",
   "metadata": {},
   "outputs": [
    {
     "data": {
      "image/png": "[encoded data removed]",
      "text/plain": [
       "<Figure size 432x432 with 1 Axes>"
      ]
     },
     "metadata": {
      "needs_background": "light"
     },
     "output_type": "display_data"
    }
   ],
   "source": [
    "temp=distribution_of_aspect_ratio(os.path.normpath('SSDD/labels/'), 416, 'SSDD')"
   ]
  },
  {
   "cell_type": "code",
   "execution_count": 11,
   "id": "cee7cb48",
   "metadata": {},
   "outputs": [
    {
     "data": {
      "image/png": "[encoded data removed]",
      "text/plain": [
       "<Figure size 432x288 with 1 Axes>"
      ]
     },
     "metadata": {
      "needs_background": "light"
     },
     "output_type": "display_data"
    }
   ],
   "source": [
    "counts, bin_edges = np.histogram(temp['aspect_ratio'].to_list(), bins=20)\n",
    "bin_centers = 0.5 * (bin_edges[1:]+ bin_edges[:-1])\n",
    "\n",
    "bubble_size = counts * 1\n",
    "\n",
    "plt.scatter(counts, bin_centers, s=bubble_size, alpha=0.5 )\n",
    "\n",
    "plt.show()"
   ]
  },
  {
   "cell_type": "code",
   "execution_count": 14,
   "id": "2d37776e",
   "metadata": {},
   "outputs": [
    {
     "data": {
      "text/html": [
       "<div>\n",
       "<style scoped>\n",
       "    .dataframe tbody tr th:only-of-type {\n",
       "        vertical-align: middle;\n",
       "    }\n",
       "\n",
       "    .dataframe tbody tr th {\n",
       "        vertical-align: top;\n",
       "    }\n",
       "\n",
       "    .dataframe thead th {\n",
       "        text-align: right;\n",
       "    }\n",
       "</style>\n",
       "<table border=\"1\" class=\"dataframe\">\n",
       "  <thead>\n",
       "    <tr style=\"text-align: right;\">\n",
       "      <th></th>\n",
       "      <th>ID</th>\n",
       "      <th>X</th>\n",
       "      <th>Y</th>\n",
       "      <th>W</th>\n",
       "      <th>H</th>\n",
       "      <th>aspect_ratio</th>\n",
       "    </tr>\n",
       "  </thead>\n",
       "  <tbody>\n",
       "    <tr>\n",
       "      <th>15</th>\n",
       "      <td>000014.txt</td>\n",
       "      <td>137.5</td>\n",
       "      <td>207.5</td>\n",
       "      <td>157.0</td>\n",
       "      <td>35.0</td>\n",
       "      <td>4.4857</td>\n",
       "    </tr>\n",
       "    <tr>\n",
       "      <th>16</th>\n",
       "      <td>000015.txt</td>\n",
       "      <td>316.0</td>\n",
       "      <td>84.5</td>\n",
       "      <td>168.0</td>\n",
       "      <td>53.0</td>\n",
       "      <td>3.1698</td>\n",
       "    </tr>\n",
       "    <tr>\n",
       "      <th>25</th>\n",
       "      <td>000020.txt</td>\n",
       "      <td>206.5</td>\n",
       "      <td>224.0</td>\n",
       "      <td>201.0</td>\n",
       "      <td>48.0</td>\n",
       "      <td>4.1875</td>\n",
       "    </tr>\n",
       "    <tr>\n",
       "      <th>26</th>\n",
       "      <td>000021.txt</td>\n",
       "      <td>235.0</td>\n",
       "      <td>253.0</td>\n",
       "      <td>148.0</td>\n",
       "      <td>40.0</td>\n",
       "      <td>3.7000</td>\n",
       "    </tr>\n",
       "    <tr>\n",
       "      <th>28</th>\n",
       "      <td>000023.txt</td>\n",
       "      <td>271.5</td>\n",
       "      <td>178.0</td>\n",
       "      <td>177.0</td>\n",
       "      <td>32.0</td>\n",
       "      <td>5.5312</td>\n",
       "    </tr>\n",
       "    <tr>\n",
       "      <th>29</th>\n",
       "      <td>000024.txt</td>\n",
       "      <td>284.0</td>\n",
       "      <td>207.5</td>\n",
       "      <td>174.0</td>\n",
       "      <td>41.0</td>\n",
       "      <td>4.2439</td>\n",
       "    </tr>\n",
       "    <tr>\n",
       "      <th>30</th>\n",
       "      <td>000025.txt</td>\n",
       "      <td>202.0</td>\n",
       "      <td>184.5</td>\n",
       "      <td>138.0</td>\n",
       "      <td>23.0</td>\n",
       "      <td>6.0000</td>\n",
       "    </tr>\n",
       "    <tr>\n",
       "      <th>31</th>\n",
       "      <td>000026.txt</td>\n",
       "      <td>177.0</td>\n",
       "      <td>179.0</td>\n",
       "      <td>134.0</td>\n",
       "      <td>38.0</td>\n",
       "      <td>3.5263</td>\n",
       "    </tr>\n",
       "    <tr>\n",
       "      <th>40</th>\n",
       "      <td>000034.txt</td>\n",
       "      <td>246.5</td>\n",
       "      <td>209.5</td>\n",
       "      <td>177.0</td>\n",
       "      <td>55.0</td>\n",
       "      <td>3.2182</td>\n",
       "    </tr>\n",
       "    <tr>\n",
       "      <th>41</th>\n",
       "      <td>000035.txt</td>\n",
       "      <td>162.5</td>\n",
       "      <td>186.5</td>\n",
       "      <td>199.0</td>\n",
       "      <td>61.0</td>\n",
       "      <td>3.2623</td>\n",
       "    </tr>\n",
       "    <tr>\n",
       "      <th>42</th>\n",
       "      <td>000036.txt</td>\n",
       "      <td>213.5</td>\n",
       "      <td>211.0</td>\n",
       "      <td>175.0</td>\n",
       "      <td>42.0</td>\n",
       "      <td>4.1667</td>\n",
       "    </tr>\n",
       "    <tr>\n",
       "      <th>43</th>\n",
       "      <td>000037.txt</td>\n",
       "      <td>202.5</td>\n",
       "      <td>256.0</td>\n",
       "      <td>205.0</td>\n",
       "      <td>58.0</td>\n",
       "      <td>3.5345</td>\n",
       "    </tr>\n",
       "    <tr>\n",
       "      <th>44</th>\n",
       "      <td>000038.txt</td>\n",
       "      <td>167.0</td>\n",
       "      <td>169.5</td>\n",
       "      <td>118.0</td>\n",
       "      <td>27.0</td>\n",
       "      <td>4.3704</td>\n",
       "    </tr>\n",
       "    <tr>\n",
       "      <th>45</th>\n",
       "      <td>000039.txt</td>\n",
       "      <td>172.5</td>\n",
       "      <td>224.0</td>\n",
       "      <td>231.0</td>\n",
       "      <td>60.0</td>\n",
       "      <td>3.8500</td>\n",
       "    </tr>\n",
       "    <tr>\n",
       "      <th>450</th>\n",
       "      <td>000219.txt</td>\n",
       "      <td>293.5</td>\n",
       "      <td>341.0</td>\n",
       "      <td>115.0</td>\n",
       "      <td>36.0</td>\n",
       "      <td>3.1944</td>\n",
       "    </tr>\n",
       "    <tr>\n",
       "      <th>471</th>\n",
       "      <td>000231.txt</td>\n",
       "      <td>254.0</td>\n",
       "      <td>129.5</td>\n",
       "      <td>114.0</td>\n",
       "      <td>37.0</td>\n",
       "      <td>3.0811</td>\n",
       "    </tr>\n",
       "    <tr>\n",
       "      <th>472</th>\n",
       "      <td>000231.txt</td>\n",
       "      <td>226.5</td>\n",
       "      <td>156.5</td>\n",
       "      <td>179.0</td>\n",
       "      <td>59.0</td>\n",
       "      <td>3.0339</td>\n",
       "    </tr>\n",
       "    <tr>\n",
       "      <th>487</th>\n",
       "      <td>000234.txt</td>\n",
       "      <td>334.5</td>\n",
       "      <td>66.5</td>\n",
       "      <td>139.0</td>\n",
       "      <td>41.0</td>\n",
       "      <td>3.3902</td>\n",
       "    </tr>\n",
       "    <tr>\n",
       "      <th>488</th>\n",
       "      <td>000234.txt</td>\n",
       "      <td>338.5</td>\n",
       "      <td>91.0</td>\n",
       "      <td>141.0</td>\n",
       "      <td>40.0</td>\n",
       "      <td>3.5250</td>\n",
       "    </tr>\n",
       "    <tr>\n",
       "      <th>503</th>\n",
       "      <td>000241.txt</td>\n",
       "      <td>234.0</td>\n",
       "      <td>297.0</td>\n",
       "      <td>118.0</td>\n",
       "      <td>36.0</td>\n",
       "      <td>3.2778</td>\n",
       "    </tr>\n",
       "    <tr>\n",
       "      <th>1228</th>\n",
       "      <td>000737.txt</td>\n",
       "      <td>149.5</td>\n",
       "      <td>189.0</td>\n",
       "      <td>99.0</td>\n",
       "      <td>30.0</td>\n",
       "      <td>3.3000</td>\n",
       "    </tr>\n",
       "    <tr>\n",
       "      <th>1235</th>\n",
       "      <td>000738.txt</td>\n",
       "      <td>233.5</td>\n",
       "      <td>168.5</td>\n",
       "      <td>109.0</td>\n",
       "      <td>35.0</td>\n",
       "      <td>3.1143</td>\n",
       "    </tr>\n",
       "    <tr>\n",
       "      <th>1968</th>\n",
       "      <td>001088.txt</td>\n",
       "      <td>255.5</td>\n",
       "      <td>207.5</td>\n",
       "      <td>59.0</td>\n",
       "      <td>19.0</td>\n",
       "      <td>3.1053</td>\n",
       "    </tr>\n",
       "    <tr>\n",
       "      <th>1970</th>\n",
       "      <td>001088.txt</td>\n",
       "      <td>280.5</td>\n",
       "      <td>271.5</td>\n",
       "      <td>47.0</td>\n",
       "      <td>15.0</td>\n",
       "      <td>3.1333</td>\n",
       "    </tr>\n",
       "  </tbody>\n",
       "</table>\n",
       "</div>"
      ],
      "text/plain": [
       "              ID      X      Y      W     H  aspect_ratio\n",
       "15    000014.txt  137.5  207.5  157.0  35.0        4.4857\n",
       "16    000015.txt  316.0   84.5  168.0  53.0        3.1698\n",
       "25    000020.txt  206.5  224.0  201.0  48.0        4.1875\n",
       "26    000021.txt  235.0  253.0  148.0  40.0        3.7000\n",
       "28    000023.txt  271.5  178.0  177.0  32.0        5.5312\n",
       "29    000024.txt  284.0  207.5  174.0  41.0        4.2439\n",
       "30    000025.txt  202.0  184.5  138.0  23.0        6.0000\n",
       "31    000026.txt  177.0  179.0  134.0  38.0        3.5263\n",
       "40    000034.txt  246.5  209.5  177.0  55.0        3.2182\n",
       "41    000035.txt  162.5  186.5  199.0  61.0        3.2623\n",
       "42    000036.txt  213.5  211.0  175.0  42.0        4.1667\n",
       "43    000037.txt  202.5  256.0  205.0  58.0        3.5345\n",
       "44    000038.txt  167.0  169.5  118.0  27.0        4.3704\n",
       "45    000039.txt  172.5  224.0  231.0  60.0        3.8500\n",
       "450   000219.txt  293.5  341.0  115.0  36.0        3.1944\n",
       "471   000231.txt  254.0  129.5  114.0  37.0        3.0811\n",
       "472   000231.txt  226.5  156.5  179.0  59.0        3.0339\n",
       "487   000234.txt  334.5   66.5  139.0  41.0        3.3902\n",
       "488   000234.txt  338.5   91.0  141.0  40.0        3.5250\n",
       "503   000241.txt  234.0  297.0  118.0  36.0        3.2778\n",
       "1228  000737.txt  149.5  189.0   99.0  30.0        3.3000\n",
       "1235  000738.txt  233.5  168.5  109.0  35.0        3.1143\n",
       "1968  001088.txt  255.5  207.5   59.0  19.0        3.1053\n",
       "1970  001088.txt  280.5  271.5   47.0  15.0        3.1333"
      ]
     },
     "execution_count": 14,
     "metadata": {},
     "output_type": "execute_result"
    }
   ],
   "source": [
    "temp[temp['aspect_ratio']>3]"
   ]
  },
  {
   "cell_type": "code",
   "execution_count": 16,
   "id": "93098b76",
   "metadata": {},
   "outputs": [
    {
     "data": {
      "text/plain": [
       "<matplotlib.collections.PathCollection at 0x23fe55da4c0>"
      ]
     },
     "execution_count": 16,
     "metadata": {},
     "output_type": "execute_result"
    },
    {
     "data": {
      "image/png": "[encoded data removed]",
      "text/plain": [
       "<Figure size 432x288 with 1 Axes>"
      ]
     },
     "metadata": {
      "needs_background": "light"
     },
     "output_type": "display_data"
    }
   ],
   "source": [
    "plt.scatter(temp['W'],temp['H'])"
   ]
  },
  {
   "cell_type": "markdown",
   "id": "fb56ffe6",
   "metadata": {},
   "source": [
    "##### Making batch of training samples"
   ]
  },
  {
   "cell_type": "raw",
   "id": "31f13b39",
   "metadata": {},
   "source": [
    "Random selection with seed"
   ]
  },
  {
   "cell_type": "code",
   "execution_count": 4,
   "id": "97db2d93",
   "metadata": {},
   "outputs": [],
   "source": [
    "directory_path='SSDD/images'\n",
    "all_files = [file for file in os.listdir(directory_path) if os.path.isfile(os.path.join(directory_path, file))]"
   ]
  },
  {
   "cell_type": "code",
   "execution_count": 14,
   "id": "b9120018",
   "metadata": {},
   "outputs": [
    {
     "name": "stdout",
     "output_type": "stream",
     "text": [
      "['000232.jpg', '000052.jpg', '000572.jpg', '000510.jpg', '000465.jpg', '000290.jpg', '000212.jpg', '001143.jpg', '000181.jpg', '000886.jpg', '000066.jpg', '000062.jpg', '000194.jpg', '000454.jpg', '000484.jpg', '001056.jpg', '000055.jpg', '000414.jpg', '000881.jpg', '000459.jpg', '000941.jpg', '000578.jpg', '000014.jpg', '000331.jpg', '000887.jpg', '000718.jpg', '000323.jpg', '000447.jpg', '000711.jpg', '000192.jpg', '000800.jpg', '000201.jpg', '000757.jpg', '000726.jpg', '000550.jpg', '000089.jpg', '000962.jpg', '001124.jpg', '000259.jpg', '000797.jpg', '000164.jpg', '001157.jpg', '000609.jpg', '000762.jpg', '000400.jpg', '000145.jpg', '000095.jpg', '000474.jpg', '000601.jpg', '000166.jpg']\n"
     ]
    }
   ],
   "source": [
    "random.seed(42)\n",
    "selected_images = random.sample(all_files, min(len(all_files), 50))\n",
    "print(selected_images)"
   ]
  },
  {
   "cell_type": "code",
   "execution_count": 55,
   "id": "1a3eb0f0",
   "metadata": {},
   "outputs": [],
   "source": [
    "def copy_files(source, destination, files, f='jpg' ):\n",
    "    source=os.path.normpath(source)\n",
    "    destination=os.path.normpath(destination)\n",
    "    i=1\n",
    "    files=[file.split('.')[0]+\".\"+f for file in files]\n",
    "    for file in files:\n",
    "        s_file= os.path.join(source, file)\n",
    "        d_file= os.path.join(destination, file)\n",
    "        if not os.path.isfile(d_file):\n",
    "            shutil.move(s_file, d_file)\n",
    "            print(f\"{i}  : Moved {file} to {d_file}\")\n",
    "        i+=1\n",
    "    "
   ]
  },
  {
   "cell_type": "code",
   "execution_count": 56,
   "id": "e8f33a81",
   "metadata": {},
   "outputs": [],
   "source": [
    "copy_files('SSDD/images','SSDD/Training-Batch/images', selected_images)"
   ]
  },
  {
   "cell_type": "code",
   "execution_count": 57,
   "id": "d3ea5cc1",
   "metadata": {},
   "outputs": [],
   "source": [
    "copy_files('SSDD/labels','SSDD/Training-Batch/labels', selected_images,f='txt')"
   ]
  },
  {
   "cell_type": "code",
   "execution_count": 58,
   "id": "4565ebd4",
   "metadata": {},
   "outputs": [
    {
     "data": {
      "image/png": "[encoded data removed]",
      "text/plain": [
       "<Figure size 432x432 with 1 Axes>"
      ]
     },
     "metadata": {
      "needs_background": "light"
     },
     "output_type": "display_data"
    }
   ],
   "source": [
    "temp=distribution_of_aspect_ratio(os.path.normpath('SSDD/Training-Batch/labels/'), 416, 'First Training Batch')"
   ]
  },
  {
   "cell_type": "code",
   "execution_count": null,
   "id": "0336cb4d",
   "metadata": {},
   "outputs": [],
   "source": []
  }
 ],
 "metadata": {
  "kernelspec": {
   "display_name": "thesis",
   "language": "python",
   "name": "thesis"
  },
  "language_info": {
   "codemirror_mode": {
    "name": "ipython",
    "version": 3
   },
   "file_extension": ".py",
   "mimetype": "text/x-python",
   "name": "python",
   "nbconvert_exporter": "python",
   "pygments_lexer": "ipython3",
   "version": "3.8.9"
  }
 },
 "nbformat": 4,
 "nbformat_minor": 5
}
